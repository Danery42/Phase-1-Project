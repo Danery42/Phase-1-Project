{
 "cells": [
  {
   "cell_type": "markdown",
   "metadata": {},
   "source": [
    "# Aircraft Risk analysis"
   ]
  },
  {
   "cell_type": "markdown",
   "metadata": {},
   "source": [
    "## Overview"
   ]
  },
  {
   "cell_type": "markdown",
   "metadata": {},
   "source": [
    "This project delves into aviation safety data to help the enterprise entering the commercial and private aircraft industry identify the lowest-risk aircraft for acquisition. Utilizing historical accident data, the analysis focuses on quantifying safety risks for various aircraft makes and models. The primary objective is to translate these findings into actionable insights, providing the new aviation division head with data-driven recommendations to inform strategic aircraft purchasing decisions and mitigate potential hazards in this new business venture."
   ]
  },
  {
   "cell_type": "markdown",
   "metadata": {},
   "source": [
    "## Business Understanding"
   ]
  },
  {
   "cell_type": "markdown",
   "metadata": {},
   "source": [
    "The company is diversifying its portfolio by venturing into the aviation industry, acquiring and operating airplanes for commercial and private use. A critical challenge is their lack of prior experience and understanding regarding the inherent risks associated with different aircraft. This project aims to address this gap by analyzing historical aviation accident data to identify and recommend aircraft models with the lowest safety risk profiles, thereby enabling the head of the new aviation division to make informed and strategic purchasing decisions that safeguard both assets and personnel.t here"
   ]
  },
  {
   "cell_type": "markdown",
   "metadata": {},
   "source": [
    "## Data Understanding"
   ]
  },
  {
   "cell_type": "code",
   "execution_count": 1,
   "metadata": {
    "jupyter": {
     "source_hidden": true
    }
   },
   "outputs": [
    {
     "name": "stderr",
     "output_type": "stream",
     "text": [
      "C:\\Users\\Danery ORIOL\\AppData\\Local\\Temp\\ipykernel_9124\\2954108191.py:10: DtypeWarning: Columns (6,7,28) have mixed types. Specify dtype option on import or set low_memory=False.\n",
      "  df = pd.read_csv(file_path, encoding='latin1')\n"
     ]
    },
    {
     "name": "stdout",
     "output_type": "stream",
     "text": [
      "         Event.Id Investigation.Type Accident.Number  Event.Date  \\\n",
      "0  20001218X45444           Accident      SEA87LA080  1948-10-24   \n",
      "1  20001218X45447           Accident      LAX94LA336  1962-07-19   \n",
      "2  20061025X01555           Accident      NYC07LA005  1974-08-30   \n",
      "3  20001218X45448           Accident      LAX96LA321  1977-06-19   \n",
      "4  20041105X01764           Accident      CHI79FA064  1979-08-02   \n",
      "\n",
      "          Location        Country   Latitude  Longitude Airport.Code  \\\n",
      "0  MOOSE CREEK, ID  United States        NaN        NaN          NaN   \n",
      "1   BRIDGEPORT, CA  United States        NaN        NaN          NaN   \n",
      "2    Saltville, VA  United States  36.922223 -81.878056          NaN   \n",
      "3       EUREKA, CA  United States        NaN        NaN          NaN   \n",
      "4       Canton, OH  United States        NaN        NaN          NaN   \n",
      "\n",
      "  Airport.Name  ... Purpose.of.flight Air.carrier Total.Fatal.Injuries  \\\n",
      "0          NaN  ...          Personal         NaN                  2.0   \n",
      "1          NaN  ...          Personal         NaN                  4.0   \n",
      "2          NaN  ...          Personal         NaN                  3.0   \n",
      "3          NaN  ...          Personal         NaN                  2.0   \n",
      "4          NaN  ...          Personal         NaN                  1.0   \n",
      "\n",
      "  Total.Serious.Injuries Total.Minor.Injuries Total.Uninjured  \\\n",
      "0                    0.0                  0.0             0.0   \n",
      "1                    0.0                  0.0             0.0   \n",
      "2                    NaN                  NaN             NaN   \n",
      "3                    0.0                  0.0             0.0   \n",
      "4                    2.0                  NaN             0.0   \n",
      "\n",
      "  Weather.Condition  Broad.phase.of.flight   Report.Status Publication.Date  \n",
      "0               UNK                 Cruise  Probable Cause              NaN  \n",
      "1               UNK                Unknown  Probable Cause       19-09-1996  \n",
      "2               IMC                 Cruise  Probable Cause       26-02-2007  \n",
      "3               IMC                 Cruise  Probable Cause       12-09-2000  \n",
      "4               VMC               Approach  Probable Cause       16-04-1980  \n",
      "\n",
      "[5 rows x 31 columns]\n"
     ]
    },
    {
     "data": {
      "text/html": [
       "<div>\n",
       "<style scoped>\n",
       "    .dataframe tbody tr th:only-of-type {\n",
       "        vertical-align: middle;\n",
       "    }\n",
       "\n",
       "    .dataframe tbody tr th {\n",
       "        vertical-align: top;\n",
       "    }\n",
       "\n",
       "    .dataframe thead th {\n",
       "        text-align: right;\n",
       "    }\n",
       "</style>\n",
       "<table border=\"1\" class=\"dataframe\">\n",
       "  <thead>\n",
       "    <tr style=\"text-align: right;\">\n",
       "      <th></th>\n",
       "      <th>Number.of.Engines</th>\n",
       "      <th>Total.Fatal.Injuries</th>\n",
       "      <th>Total.Serious.Injuries</th>\n",
       "      <th>Total.Minor.Injuries</th>\n",
       "      <th>Total.Uninjured</th>\n",
       "    </tr>\n",
       "  </thead>\n",
       "  <tbody>\n",
       "    <tr>\n",
       "      <th>count</th>\n",
       "      <td>82805.000000</td>\n",
       "      <td>77488.000000</td>\n",
       "      <td>76379.000000</td>\n",
       "      <td>76956.000000</td>\n",
       "      <td>82977.000000</td>\n",
       "    </tr>\n",
       "    <tr>\n",
       "      <th>mean</th>\n",
       "      <td>1.146585</td>\n",
       "      <td>0.647855</td>\n",
       "      <td>0.279881</td>\n",
       "      <td>0.357061</td>\n",
       "      <td>5.325440</td>\n",
       "    </tr>\n",
       "    <tr>\n",
       "      <th>std</th>\n",
       "      <td>0.446510</td>\n",
       "      <td>5.485960</td>\n",
       "      <td>1.544084</td>\n",
       "      <td>2.235625</td>\n",
       "      <td>27.913634</td>\n",
       "    </tr>\n",
       "    <tr>\n",
       "      <th>min</th>\n",
       "      <td>0.000000</td>\n",
       "      <td>0.000000</td>\n",
       "      <td>0.000000</td>\n",
       "      <td>0.000000</td>\n",
       "      <td>0.000000</td>\n",
       "    </tr>\n",
       "    <tr>\n",
       "      <th>25%</th>\n",
       "      <td>1.000000</td>\n",
       "      <td>0.000000</td>\n",
       "      <td>0.000000</td>\n",
       "      <td>0.000000</td>\n",
       "      <td>0.000000</td>\n",
       "    </tr>\n",
       "    <tr>\n",
       "      <th>50%</th>\n",
       "      <td>1.000000</td>\n",
       "      <td>0.000000</td>\n",
       "      <td>0.000000</td>\n",
       "      <td>0.000000</td>\n",
       "      <td>1.000000</td>\n",
       "    </tr>\n",
       "    <tr>\n",
       "      <th>75%</th>\n",
       "      <td>1.000000</td>\n",
       "      <td>0.000000</td>\n",
       "      <td>0.000000</td>\n",
       "      <td>0.000000</td>\n",
       "      <td>2.000000</td>\n",
       "    </tr>\n",
       "    <tr>\n",
       "      <th>max</th>\n",
       "      <td>8.000000</td>\n",
       "      <td>349.000000</td>\n",
       "      <td>161.000000</td>\n",
       "      <td>380.000000</td>\n",
       "      <td>699.000000</td>\n",
       "    </tr>\n",
       "  </tbody>\n",
       "</table>\n",
       "</div>"
      ],
      "text/plain": [
       "       Number.of.Engines  Total.Fatal.Injuries  Total.Serious.Injuries  \\\n",
       "count       82805.000000          77488.000000            76379.000000   \n",
       "mean            1.146585              0.647855                0.279881   \n",
       "std             0.446510              5.485960                1.544084   \n",
       "min             0.000000              0.000000                0.000000   \n",
       "25%             1.000000              0.000000                0.000000   \n",
       "50%             1.000000              0.000000                0.000000   \n",
       "75%             1.000000              0.000000                0.000000   \n",
       "max             8.000000            349.000000              161.000000   \n",
       "\n",
       "       Total.Minor.Injuries  Total.Uninjured  \n",
       "count          76956.000000     82977.000000  \n",
       "mean               0.357061         5.325440  \n",
       "std                2.235625        27.913634  \n",
       "min                0.000000         0.000000  \n",
       "25%                0.000000         0.000000  \n",
       "50%                0.000000         1.000000  \n",
       "75%                0.000000         2.000000  \n",
       "max              380.000000       699.000000  "
      ]
     },
     "execution_count": 1,
     "metadata": {},
     "output_type": "execute_result"
    }
   ],
   "source": [
    "# Imports here\n",
    "import pandas as pd\n",
    "import matplotlib.pyplot as plt\n",
    "import seaborn as sns\n",
    "import numpy as np\n",
    "\n",
    "\n",
    "# path to CSV file\n",
    "file_path = 'AviationData.csv'\n",
    "df = pd.read_csv(file_path, encoding='latin1')\n",
    "print(df.head())\n",
    "df.describe()"
   ]
  },
  {
   "cell_type": "markdown",
   "metadata": {},
   "source": [
    "## Data Preparation"
   ]
  },
  {
   "cell_type": "code",
   "execution_count": 2,
   "metadata": {
    "jupyter": {
     "source_hidden": true
    },
    "scrolled": true
   },
   "outputs": [],
   "source": [
    "relevant_columns = [\n",
    "    'Event.Date',\n",
    "    'Investigation.Type',\n",
    "    'Aircraft.Category',\n",
    "    'Make',\n",
    "    'Model',\n",
    "    'Total.Fatal.Injuries',\n",
    "    'Total.Serious.Injuries',\n",
    "    'Total.Minor.Injuries',\n",
    "    'Total.Uninjured',\n",
    "    'Aircraft.damage',\n",
    "    'Purpose.of.flight'\n",
    "]\n",
    "\n",
    "df = df[relevant_columns]\n",
    "# remove missing values\n",
    "df = df[ df['Aircraft.Category'].notna()]\n",
    "\n",
    "# Filter for 'Accident' investigation types only,\n",
    "df_accidents = df[df['Investigation.Type'] == 'Accident'].copy()\n",
    "# Fill missing injury counts with 0 and convert to integer type\n",
    "injury_cols = ['Total.Fatal.Injuries', 'Total.Serious.Injuries', 'Total.Minor.Injuries', 'Total.Uninjured']\n",
    "for col in injury_cols:\n",
    "    df_accidents[col] = df_accidents[col].fillna(0).astype(int)\n",
    "df_accidents['Make'] = df_accidents['Make'].str.replace(r'CESSNA.*', 'Cessna', regex=True)\n",
    "df_accidents['Make'] = df_accidents['Make'].str.replace(r'PIPER.*', 'Piper', regex=True)\n",
    "df_accidents['Make'] = df_accidents['Make'].str.replace(r'BEECH.*', 'Beech', regex=True)\n",
    "\n"
   ]
  },
  {
   "cell_type": "markdown",
   "metadata": {},
   "source": [
    "## Analysis and Results"
   ]
  },
  {
   "cell_type": "code",
   "execution_count": 8,
   "metadata": {
    "jupyter": {
     "source_hidden": true
    }
   },
   "outputs": [
    {
     "data": {
      "image/png": "[encoded data removed]",
      "text/plain": [
       "<Figure size 800x500 with 1 Axes>"
      ]
     },
     "metadata": {},
     "output_type": "display_data"
    },
    {
     "name": "stderr",
     "output_type": "stream",
     "text": [
      "C:\\Users\\Danery ORIOL\\AppData\\Local\\Temp\\ipykernel_9124\\159517146.py:25: FutureWarning: \n",
      "\n",
      "Passing `palette` without assigning `hue` is deprecated and will be removed in v0.14.0. Assign the `y` variable to `hue` and set `legend=False` for the same effect.\n",
      "\n",
      "  sns.barplot(x='Total_Accidents', y='Aircraft', data=top_5_helicopters, palette='Reds_d')\n"
     ]
    },
    {
     "data": {
      "image/png": "[encoded data removed]",
      "text/plain": [
       "<Figure size 800x500 with 1 Axes>"
      ]
     },
     "metadata": {},
     "output_type": "display_data"
    },
    {
     "name": "stdout",
     "output_type": "stream",
     "text": [
      "| Aircraft                                   | Total_Accidents   |\n",
      "|:-------------------------------------------|:------------------|\n",
      "| 177MF LLC - PITTS MODEL 12                 | 1                 |\n",
      "| MIGAS - RV9-A                              | 1                 |\n",
      "| MID-SOUTH CUSTOM CRAFT INC - SH-2R         | 1                 |\n",
      "| MICROLITES PTYLTD - Dragonfly B            | 1                 |\n",
      "| MICKLER LARRY J - RV6 A                    | 1                 |\n",
      "| MICHEL PAUL JOHN - Murphy Rebel            | 1                 |\n",
      "| MICHAEL WILSON - MURPHY SPIRIT             | 1                 |\n",
      "| MICHAEL J ROBBINS - SEAREY                 | 1                 |\n",
      "| MICHAEL DEAN GRISSOM - GRISSOM POBER PIXIE | 1                 |\n",
      "| MICHAEL ADAMCZYK - ZENITH CH750            | 1                 |\n",
      "\n",
      "Top 10 Helicopter Models with the LEAST Accidents:\n",
      "| Aircraft                            | Total_Accidents   |\n",
      "|:------------------------------------|:------------------|\n",
      "| AEROSPATIALE - AS 355               | 1                 |\n",
      "| HUGHES/HELICOPTER ASSOCS INC - 369A | 1                 |\n",
      "| HYDE WILLIAM R - HELICYCLE          | 1                 |\n",
      "| Helo Werks - HX-1 Wasp              | 1                 |\n",
      "| Hiller - 12B                        | 1                 |\n",
      "| Hiller - UH 12-E                    | 1                 |\n",
      "| Hiller - UH 12D                     | 1                 |\n",
      "| Hiller - UH-12-SOLOY                | 1                 |\n",
      "| Hiller - UH-12A                     | 1                 |\n",
      "| Hiller - UH-12C                     | 1                 |\n",
      "\n",
      "Analysis for least accidents complete.\n"
     ]
    }
   ],
   "source": [
    "top_5_airplanes = df_accidents['Make'].value_counts().head(5)\n",
    "# Plot for Top 5 Airplanes \n",
    "plt.figure(figsize=(8, 5)) \n",
    "plt.bar(top_5_airplanes.index,top_5_airplanes.values,color='green') \n",
    "plt.title('Top 5 Airplane by Total Accidents') \n",
    "plt.xlabel('Number of Accidents') \n",
    "plt.ylabel('Airplane') \n",
    "plt.tight_layout() \n",
    "plt.show() \n",
    "# Filter for 'Helicopter' category \n",
    "df_helicopter_accidents = df_accidents[df_accidents['Aircraft.Category'] == \n",
    "'Helicopter'].copy() \n",
    "# Group by 'Make' and 'Model' and count accidents for Helicopters \n",
    "helicopter_accident_counts = df_helicopter_accidents.groupby(['Make', \n",
    "'Model']).size().reset_index(name='Total_Accidents')\n",
    "\n",
    "# Get the top 5 Helicopter models with the most accidents\n",
    "top_5_helicopters = helicopter_accident_counts.sort_values(by='Total_Accidents', ascending=False).head(5)\n",
    "\n",
    "# Create a combined 'Make - Model' column for better labeling on the plot\n",
    "top_5_helicopters['Aircraft'] = top_5_helicopters['Make'] + ' - ' + top_5_helicopters['Model']\n",
    "\n",
    "# Plot for Top 5 Helicopters\n",
    "plt.figure(figsize=(8, 5))\n",
    "sns.barplot(x='Total_Accidents', y='Aircraft', data=top_5_helicopters, palette='Reds_d')\n",
    "plt.title('Top 5 Helicopter Models by Total Accidents')\n",
    "plt.xlabel('Number of Accidents')\n",
    "plt.ylabel('Aircraft (Make - Model)')\n",
    "plt.tight_layout()\n",
    "plt.show()\n",
    "\n",
    "\n",
    "# Filter for 'Airplane' category\n",
    "df_airplane = df_accidents[df_accidents['Aircraft.Category'] == 'Airplane'].copy()\n",
    "\n",
    "# Group by Make and Model and count accidents\n",
    "airplane_accident_counts = df_airplane.groupby(['Make', 'Model']).size().reset_index(name='Total_Accidents')\n",
    "\n",
    "# Sort by 'Total_Accidents' in ASCENDING order and get the top 10\n",
    "# Note: These are likely models with very limited operational history in the dataset.\n",
    "top_10_least_accidents_airplanes = airplane_accident_counts.sort_values(\n",
    "    by='Total_Accidents', ascending=True\n",
    ").head(10)\n",
    "\n",
    "# Add a combined 'Aircraft' column for clearer display\n",
    "top_10_least_accidents_airplanes['Aircraft'] = top_10_least_accidents_airplanes['Make'] + ' - ' + top_10_least_accidents_airplanes['Model']\n",
    "\n",
    "print(top_10_least_accidents_airplanes[['Aircraft', 'Total_Accidents']].to_markdown(index=False, numalign=\"left\", stralign=\"left\"))\n",
    "\n",
    "\n",
    "# --- For Helicopters ---\n",
    "print(\"\\nTop 10 Helicopter Models with the LEAST Accidents:\")\n",
    "# Filter for 'Helicopter' category\n",
    "df_helicopter = df_accidents[df_accidents['Aircraft.Category'] == 'Helicopter'].copy()\n",
    "\n",
    "# Group by Make and Model and count accidents\n",
    "helicopter_accident_counts = df_helicopter.groupby(['Make', 'Model']).size().reset_index(name='Total_Accidents')\n",
    "\n",
    "# Sort by 'Total_Accidents' in ASCENDING order and get the top 10\n",
    "# Note: These are likely models with very limited operational history in the dataset.\n",
    "top_10_least_accidents_helicopters = helicopter_accident_counts.sort_values(\n",
    "    by='Total_Accidents', ascending=True\n",
    ").head(10)\n",
    "\n",
    "# Add a combined 'Aircraft' column for clearer display\n",
    "top_10_least_accidents_helicopters['Aircraft'] = top_10_least_accidents_helicopters['Make'] + ' - ' + top_10_least_accidents_helicopters['Model']\n",
    "\n",
    "print(top_10_least_accidents_helicopters[['Aircraft', 'Total_Accidents']].to_markdown(index=False, numalign=\"left\", stralign=\"left\"))\n",
    "\n",
    "print(\"\\nAnalysis for least accidents complete.\")"
   ]
  },
  {
   "cell_type": "markdown",
   "metadata": {},
   "source": [
    "### Business Recommendation 1"
   ]
  },
  {
   "cell_type": "markdown",
   "metadata": {},
   "source": [
    "##### Prioritize Aircraft with Minimal Fatalities\n",
    "Focus initial aircraft procurement on models with historically low or zero fatal accident records, as directly identified in the safety analysis, to mitigate the highest impact risk."
   ]
  },
  {
   "cell_type": "markdown",
   "metadata": {},
   "source": [
    "### Business Recommendation 2"
   ]
  },
  {
   "cell_type": "markdown",
   "metadata": {},
   "source": [
    "##### Conduct Holistic Due Diligence\n",
    "Beyond accident counts, rigorously research operational costs, maintenance requirements, parts availability, and acquisition expenses for shortlisted aircraft to ensure financial and operational viability."
   ]
  },
  {
   "cell_type": "markdown",
   "metadata": {},
   "source": [
    "### Business Recommendation 3"
   ]
  },
  {
   "cell_type": "markdown",
   "metadata": {},
   "source": [
    "##### Adopt a Phased and Proven Approach\n",
    "Begin operations with a small fleet of well-established aircraft known for their reliability and comprehensive support, allowing for controlled growth and risk management in this new industry venture."
   ]
  },
  {
   "cell_type": "markdown",
   "metadata": {},
   "source": [
    "## Conclusion"
   ]
  },
  {
   "cell_type": "markdown",
   "metadata": {},
   "source": [
    "This project successfully leveraged historical aviation accident data to provide a foundational understanding of aircraft safety risks for the company's new venture into commercial and private aviation. By meticulously analyzing accident trends, injury severity, and aircraft-specific safety metrics, we identified models with statistically lower risk profiles. The resulting actionable insights, encompassing both data-driven aircraft recommendations and essential considerations for operational, financial, and regulatory due diligence, equip the head of the new aviation division with a critical initial framework. This will enable more informed decision-making, significantly enhancing the strategic planning to acquire a fleet that prioritizes safety while supporting the company's diversification goals."
   ]
  },
  {
   "cell_type": "markdown",
   "metadata": {},
   "source": [
    "### Next Steps"
   ]
  },
  {
   "cell_type": "markdown",
   "metadata": {},
   "source": [
    "Moving forward, the critical next steps involve enriching the data analysis with operational costs, maintenance records, and market values for the shortlisted aircraft models. This will allow for a truly holistic risk assessment, combining safety with financial and logistical viability. Additionally, we recommend consulting with aviation industry experts and conducting on-site evaluations to validate theoretical findings against real-world operational complexities, ensuring the company's entry into this new industry is as informed and secure as possible."
   ]
  }
 ],
 "metadata": {
  "kernelspec": {
   "display_name": "Python 3 (ipykernel)",
   "language": "python",
   "name": "python3"
  },
  "language_info": {
   "codemirror_mode": {
    "name": "ipython",
    "version": 3
   },
   "file_extension": ".py",
   "mimetype": "text/x-python",
   "name": "python",
   "nbconvert_exporter": "python",
   "pygments_lexer": "ipython3",
   "version": "3.12.7"
  }
 },
 "nbformat": 4,
 "nbformat_minor": 4
}
